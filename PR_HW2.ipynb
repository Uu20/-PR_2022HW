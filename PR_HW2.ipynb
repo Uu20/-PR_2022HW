{
 "cells": [
  {
   "cell_type": "markdown",
   "id": "03feb28c",
   "metadata": {},
   "source": [
    "# 第二周作業"
   ]
  },
  {
   "cell_type": "markdown",
   "id": "16411c4b",
   "metadata": {},
   "source": [
    "關於這篇實作，參考了keras官網上，對於minst的一些網站和實作。\n",
    "\n",
    "第一種使用ReLu，第二種，加入CNN後，AC會上升\n",
    "\n",
    "                ReLu              CNN\n",
    "Test accuracy: 0.9724     \000        0.9921\n"
   ]
  },
  {
   "cell_type": "markdown",
   "id": "13563982",
   "metadata": {},
   "source": [
    "Minst資料集如下\n",
    "\n",
    "train shape: (60000, 28, 28, 1)\n",
    "\n",
    "60000 train samples\n",
    "\n",
    "10000 test samples"
   ]
  },
  {
   "cell_type": "code",
   "execution_count": 1,
   "id": "0b140f81",
   "metadata": {},
   "outputs": [],
   "source": [
    "import numpy as np\n",
    "import tensorflow as tf\n",
    "import tensorflow.keras as keras"
   ]
  },
  {
   "cell_type": "code",
   "execution_count": 10,
   "id": "ad3fd9dc",
   "metadata": {},
   "outputs": [],
   "source": [
    "(tri,trl), (tei,tel)= keras.datasets.mnist.load_data()"
   ]
  },
  {
   "cell_type": "code",
   "execution_count": 11,
   "id": "8c2388d7",
   "metadata": {},
   "outputs": [
    {
     "data": {
      "text/plain": [
       "((60000, 28, 28), (60000,), (10000, 28, 28), (10000,))"
      ]
     },
     "execution_count": 11,
     "metadata": {},
     "output_type": "execute_result"
    }
   ],
   "source": [
    "tri.shape, trl.shape, tei.shape, tel.shape\n",
    "#train_images, test_lables"
   ]
  },
  {
   "cell_type": "code",
   "execution_count": 12,
   "id": "05a26d60",
   "metadata": {},
   "outputs": [
    {
     "name": "stdout",
     "output_type": "stream",
     "text": [
      "  0  0  0  0  0  0  0  0  0  0  0  0  0  0  0  0  0  0  0  0  0  0  0  0  0  0  0  0\n",
      "  0  0  0  0  0  0  0  0  0  0  0  0  0  0  0  0  0  0  0  0  0  0  0  0  0  0  0  0\n",
      "  0  0  0  0  0  0  0  0  0  0  0  0  0  0  0  0  0  0  0  0  0  0  0  0  0  0  0  0\n",
      "  0  0  0  0  0  0  0  0  0  0  0  0  0  0  0  0  0  0  0  0  0  0  0  0  0  0  0  0\n",
      "  0  0  0  0  0  0  0  0  0  0  0  0  0  0  0  0  0  0  0  0  0  0  0  0  0  0  0  0\n",
      "  0  0  0  0  0  0  0  0  0  0  0  0  0  0  0  0  0  0  0  0  0  0  0  0  0  0  0  0\n",
      "  0  0  0  0  0  0  0  0  0  0  0  0  0  0  0  0  0  0  0  0  0  0  0  0  0  0  0  0\n",
      "  0  0  0  0  0  0 84185159151 60 36  0  0  0  0  0  0  0  0  0  0  0  0  0  0  0  0\n",
      "  0  0  0  0  0  0222254254254254241198198198198198198198198170 52  0  0  0  0  0  0\n",
      "  0  0  0  0  0  0 67114 72114163227254225254254254250229254254140  0  0  0  0  0  0\n",
      "  0  0  0  0  0  0  0  0  0  0  0 17 66 14 67 67 67 59 21236254106  0  0  0  0  0  0\n",
      "  0  0  0  0  0  0  0  0  0  0  0  0  0  0  0  0  0  0 83253209 18  0  0  0  0  0  0\n",
      "  0  0  0  0  0  0  0  0  0  0  0  0  0  0  0  0  0 22233255 83  0  0  0  0  0  0  0\n",
      "  0  0  0  0  0  0  0  0  0  0  0  0  0  0  0  0  0129254238 44  0  0  0  0  0  0  0\n",
      "  0  0  0  0  0  0  0  0  0  0  0  0  0  0  0  0 59249254 62  0  0  0  0  0  0  0  0\n",
      "  0  0  0  0  0  0  0  0  0  0  0  0  0  0  0  0133254187  5  0  0  0  0  0  0  0  0\n",
      "  0  0  0  0  0  0  0  0  0  0  0  0  0  0  0  9205248 58  0  0  0  0  0  0  0  0  0\n",
      "  0  0  0  0  0  0  0  0  0  0  0  0  0  0  0126254182  0  0  0  0  0  0  0  0  0  0\n",
      "  0  0  0  0  0  0  0  0  0  0  0  0  0  0 75251240 57  0  0  0  0  0  0  0  0  0  0\n",
      "  0  0  0  0  0  0  0  0  0  0  0  0  0 19221254166  0  0  0  0  0  0  0  0  0  0  0\n",
      "  0  0  0  0  0  0  0  0  0  0  0  0  3203254219 35  0  0  0  0  0  0  0  0  0  0  0\n",
      "  0  0  0  0  0  0  0  0  0  0  0  0 38254254 77  0  0  0  0  0  0  0  0  0  0  0  0\n",
      "  0  0  0  0  0  0  0  0  0  0  0 31224254115  1  0  0  0  0  0  0  0  0  0  0  0  0\n",
      "  0  0  0  0  0  0  0  0  0  0  0133254254 52  0  0  0  0  0  0  0  0  0  0  0  0  0\n",
      "  0  0  0  0  0  0  0  0  0  0 61242254254 52  0  0  0  0  0  0  0  0  0  0  0  0  0\n",
      "  0  0  0  0  0  0  0  0  0  0121254254219 40  0  0  0  0  0  0  0  0  0  0  0  0  0\n",
      "  0  0  0  0  0  0  0  0  0  0121254207 18  0  0  0  0  0  0  0  0  0  0  0  0  0  0\n",
      "  0  0  0  0  0  0  0  0  0  0  0  0  0  0  0  0  0  0  0  0  0  0  0  0  0  0  0  0\n"
     ]
    }
   ],
   "source": [
    "x= tei[0]\n",
    "#%%\n",
    "for i in range(28):\n",
    "    for j in range(28):\n",
    "        z= x[i,j]\n",
    "        print(f'{z:3d}', end='')\n",
    "    print()"
   ]
  },
  {
   "cell_type": "code",
   "execution_count": 13,
   "id": "0824e8c2",
   "metadata": {},
   "outputs": [
    {
     "data": {
      "text/plain": [
       "<matplotlib.image.AxesImage at 0x1d517a8aa60>"
      ]
     },
     "execution_count": 13,
     "metadata": {},
     "output_type": "execute_result"
    },
    {
     "data": {
      "image/png": "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\n",
      "text/plain": [
       "<Figure size 432x288 with 1 Axes>"
      ]
     },
     "metadata": {
      "needs_background": "light"
     },
     "output_type": "display_data"
    }
   ],
   "source": [
    "import matplotlib.pyplot as pl\n",
    "pl.imshow(x)\n",
    "pl.imshow(x, cmap='gray')"
   ]
  },
  {
   "cell_type": "code",
   "execution_count": 14,
   "id": "ce1677a4",
   "metadata": {},
   "outputs": [],
   "source": [
    "from tensorflow.keras import models\n",
    "from tensorflow.keras import layers\n",
    "\n",
    "network = models.Sequential()\n",
    "network.add(layers.Dense(64, activation=\"relu\", input_shape=(28*28,)))\n",
    "network.add(layers.Dense(10, activation='softmax'))"
   ]
  },
  {
   "cell_type": "code",
   "execution_count": 15,
   "id": "1773008e",
   "metadata": {},
   "outputs": [],
   "source": [
    "network.compile(\n",
    "    optimizer = 'adam', # 優化器\n",
    "    loss = 'categorical_crossentropy', # loss function\n",
    "    metrics = ['accuracy'] \n",
    ")"
   ]
  },
  {
   "cell_type": "code",
   "execution_count": 16,
   "id": "79fd71c4",
   "metadata": {},
   "outputs": [],
   "source": [
    "tri = tri.reshape((60000,28*28))\n",
    "tri = tri.astype('float32')/ 255\n",
    "\n",
    "tei = tei.reshape((10000,28*28))\n",
    "tei = tei.astype('float32')/ 255"
   ]
  },
  {
   "cell_type": "code",
   "execution_count": 17,
   "id": "a4dd6c5b",
   "metadata": {},
   "outputs": [],
   "source": [
    "from tensorflow.keras.utils import to_categorical\n",
    "\n",
    "trl = to_categorical(trl)\n",
    "tel = to_categorical(tel)"
   ]
  },
  {
   "cell_type": "code",
   "execution_count": 18,
   "id": "720d8ffc",
   "metadata": {},
   "outputs": [
    {
     "name": "stdout",
     "output_type": "stream",
     "text": [
      "Epoch 1/16\n",
      "750/750 [==============================] - 1s 1ms/step - loss: 0.3900 - accuracy: 0.8939 - val_loss: 0.2168 - val_accuracy: 0.9390\n",
      "Epoch 2/16\n",
      "750/750 [==============================] - 1s 1ms/step - loss: 0.1914 - accuracy: 0.9449 - val_loss: 0.1671 - val_accuracy: 0.9507\n",
      "Epoch 3/16\n",
      "750/750 [==============================] - 1s 1ms/step - loss: 0.1441 - accuracy: 0.9578 - val_loss: 0.1357 - val_accuracy: 0.9616\n",
      "Epoch 4/16\n",
      "750/750 [==============================] - 1s 1ms/step - loss: 0.1149 - accuracy: 0.9660 - val_loss: 0.1235 - val_accuracy: 0.9639\n",
      "Epoch 5/16\n",
      "750/750 [==============================] - 1s 1ms/step - loss: 0.0948 - accuracy: 0.9724 - val_loss: 0.1196 - val_accuracy: 0.9646\n",
      "Epoch 6/16\n",
      "750/750 [==============================] - 1s 1ms/step - loss: 0.0803 - accuracy: 0.9768 - val_loss: 0.1150 - val_accuracy: 0.9647\n",
      "Epoch 7/16\n",
      "750/750 [==============================] - 1s 1ms/step - loss: 0.0700 - accuracy: 0.9795 - val_loss: 0.1073 - val_accuracy: 0.9672\n",
      "Epoch 8/16\n",
      "750/750 [==============================] - 1s 1ms/step - loss: 0.0605 - accuracy: 0.9819 - val_loss: 0.1019 - val_accuracy: 0.9697\n",
      "Epoch 9/16\n",
      "750/750 [==============================] - 1s 1ms/step - loss: 0.0526 - accuracy: 0.9841 - val_loss: 0.1030 - val_accuracy: 0.9688\n",
      "Epoch 10/16\n",
      "750/750 [==============================] - 1s 1ms/step - loss: 0.0464 - accuracy: 0.9862 - val_loss: 0.1064 - val_accuracy: 0.9685\n",
      "Epoch 11/16\n",
      "750/750 [==============================] - 1s 1ms/step - loss: 0.0399 - accuracy: 0.9880 - val_loss: 0.1058 - val_accuracy: 0.9698\n",
      "Epoch 12/16\n",
      "750/750 [==============================] - 1s 1ms/step - loss: 0.0350 - accuracy: 0.9899 - val_loss: 0.1104 - val_accuracy: 0.9688\n",
      "Epoch 13/16\n",
      "750/750 [==============================] - 1s 1ms/step - loss: 0.0316 - accuracy: 0.9908 - val_loss: 0.1047 - val_accuracy: 0.9705\n",
      "Epoch 14/16\n",
      "750/750 [==============================] - 1s 1ms/step - loss: 0.0273 - accuracy: 0.9924 - val_loss: 0.1114 - val_accuracy: 0.9712\n",
      "Epoch 15/16\n",
      "750/750 [==============================] - 1s 1ms/step - loss: 0.0247 - accuracy: 0.9929 - val_loss: 0.1048 - val_accuracy: 0.9719\n",
      "Epoch 16/16\n",
      "750/750 [==============================] - 1s 1ms/step - loss: 0.0220 - accuracy: 0.9934 - val_loss: 0.1052 - val_accuracy: 0.9725\n"
     ]
    },
    {
     "data": {
      "text/plain": [
       "<keras.callbacks.History at 0x1d518337e80>"
      ]
     },
     "execution_count": 18,
     "metadata": {},
     "output_type": "execute_result"
    }
   ],
   "source": [
    "network.fit(tri,\n",
    "            trl,\n",
    "            epochs=16,\n",
    "            batch_size=64,\n",
    "            validation_split=0.2)"
   ]
  },
  {
   "cell_type": "code",
   "execution_count": 19,
   "id": "7d460867",
   "metadata": {},
   "outputs": [
    {
     "name": "stdout",
     "output_type": "stream",
     "text": [
      "Model: \"sequential_1\"\n",
      "_________________________________________________________________\n",
      " Layer (type)                Output Shape              Param #   \n",
      "=================================================================\n",
      " dense_1 (Dense)             (None, 64)                50240     \n",
      "                                                                 \n",
      " dense_2 (Dense)             (None, 10)                650       \n",
      "                                                                 \n",
      "=================================================================\n",
      "Total params: 50,890\n",
      "Trainable params: 50,890\n",
      "Non-trainable params: 0\n",
      "_________________________________________________________________\n"
     ]
    },
    {
     "data": {
      "image/png": "iVBORw0KGgoAAAANSUhEUgAAAVMAAAEnCAYAAAAU+KCjAAAABmJLR0QA/wD/AP+gvaeTAAAgAElEQVR4nO2dT4gbaX7+H429C4sJMia0J+Mdm+TQOSViNwTaJLBxr0OIkxIJdLvd/k2PLz1O9WHIbKxcTDXGtDEEqjM+LNhIgkD6oO62TxJJLlaH9iEtAgtSyBK6D8blmIXSJdIlYWdn9v0dvG/1q1KVVFK/UpXUzweE3W9Vve+33vf7PvX+q3pTQggBQgghJ+H5B3FbQAgh0wDFlBBCNEAxJYQQDVBMCSFEA2f9AQcHB/j7v//7OGwhhJCJ4Pnz511hXS3T//7v/8aLFy/GYhBJNrVaDbVaLW4zJoIXL17g3bt3cZtBRsy7d+9C9bGrZSoJUl5yulhcXARAX4hCKpXCj370I9y8eTNuU8gI2d3dxdLSUuAxjpkSQogGKKaEEKIBiikhhGiAYkoIIRqgmBJCiAZGJqbNZhPb29vIZrOjSmJiWF9fx/r6etxmxArzoJNUKtXxC6LZbGJzc3PMlk0Hm5ubaLfbgcei5P0wjExMHzx4gOXlZVQqlVElMVLa7TZqtRoKhcLEPxDa7bZWp5lEkpoHQggEfbit2WziwYMHOHfunFfpwx5GfnFI4n0Cx2UQ9Nve3u44t1KpIJvNIpVKIZvNdh33UygUOu77+vXrWFlZQbPZ7Do3LM9PjPCxs7MjAoKHAoC2uMaNZVnCsqyJvgdJuVwe6h4WFhbEwsLCCCwaP8PmQVQAiJ2dnYHOD7On1WoJwzDEwcGB93epVBIAhGVZgde4risACNd1Bzd+TBwcHHj37f+pdtu2LQCIer0uhBCiXq8LAMK27cB45XF/fh4cHAjDMESr1Qq8bpi63UMfdzlmGsLGxgY2NjbiNuPEtNttFAqFuM2IlUnLg2KxiEwmg7m5OQBAOp3GrVu3AACPHj0KbKXNzMx0/JtE3rx5A8dxvJahEAKu68KyrA67c7kcACCTyXT8u7+/3xVnu90OfSNpbm4Oly5dQrFY1H0rgWgT03a7je3tba9ZfnR0FHieHAeS5+3t7Xnh6hhrpVLxznn79m1HHPL6QqGAZrPZ1a0JSyMO/PcV5T6bzabXzQGOuzBra2sd+RrUrfOH2bbtDbXE1QVMah4kcRy32Wwil8vh2rVrgcdt28by8nLfbq9ErZdqnVHTi1rvTlqv5ufncfny5Y6wvb09LCwsdN0jAO9VZmlHUOOmWCzi888/D01zcXERuVwusLuvnQGasT0xDEOYpuk1qWW3RI3LdV1hGIYolUpCCCGq1arXnDcMwztfdm8cxxEAhGmaXhy2bQvHcYQQ77s/siseJY1h8N/DoKj35f877D6hdH/Urp5pmgKAODw89O7Vb5+MSw0b9h50dfOTmgdyKEcH0NTNl8MR0sf91wghPJ/3+3RQfIZhiHw+L4Q4rhtq1zdqvdNdryRqGiryHg8ODkSpVAocvqhWq57NYfkp76VcLncdG6Ze9OrmaxFT6QDSwYV47/h+Y6XAqkAZBwq6uaBKoWasrExR0xiUk4ppUBxR79N/TtDY0bBxRUHnmOmk5kFUdImpv3Hgv0aI4zFVf53zXycFT60vctxSimKYLYPW3WGo1+sddviRD07LsrrGPV3X9R4SYfcgxLEOBY23JlJM5U378RurPgX9v6Dzg8JkWqVSKXBguV8ag5IkMdUdVz+SKKa649KFLjHtZacaLhsRhmF4Yum/LqheSnExDKNnmoPW3WGwLCt0wsy2ba+OW5bVNZGkCmnYPfQ7lkgxPYnT94vHH3Z4eNhRsP4nju5KQzGlmEZh3GIqxHErXQpNvzwIC48j/1zXDW3VylawFM/Dw0MBwBPQcrncNQySBDGNZTY/bHIqCrOzsyiXy6jX6zBNE7lcLnBh80nSSDqmacZtQuwwD97PcpfLZVQqFW/SRsUwDAAInHwZNv901augiSfJ8vIygPerGADg4sWLAIC7d+8CALLZLK5cuRI6+RgXWsQ0n88DABqNRqTztra2vLcTBn3LI5VKod1uI5PJ4OnTp6jX695SCl1pJBXpyDdu3IjZkviY9jyQohj29o4fwzBQKpXw6NGjrmO3b98GALx+/doLk/HKb9VGRXe92t/f95Y8+ZEPAYkUVRkulKVV8idR/69iWdZQdg7EAM3YUOSMmWEYXvNbDn4Dx7OC6syr+nMcp+OYbN6rk1jquJBlWV46juN0dPV7pTEoavphC3/7odrjuu5A9wkcTxSoY0cq/tltdWG0zHc5LOK6bujC5yB0dfOTmgeTNJvfb1F+0MSVnKhSx1VLpVLXLH2UsuhXr/wL7XvRb+JJaoc8R5ZntVoNvSYsPyduNl+I90ZLpzZNs2MpheoAjuN4BW+aplcY/kLqFSYrBBA8SxeWxiAEOc4w+RIWT5T7lM4phSCfz3eJuuM43nHpMP58l2NrvQb8g9AlpknNgySKqRQtueRHPbefH/ofMjK+fD7f8WBS8y9qWQjRu15ZliVM0wy0wU8UP6xWqx160ktIVZv9SCEOSk+3mKZ+FamH/Cy/CGkuk/Egx37iLIe4ty1JQh5EJZVKYWdnJ/K2Jb3uTXad7927p8/AMZHNZlEul+M2w2N9fR3nz58PzMth/KuHPj7n66SEJIzV1VXs7+9P3GaGtVoN9+/fj9sMj0ajgUajgdXV1bGkRzFNIP7X/U4jpzkP0uk0isUiHj9+3HdSNyns7e3hwoUL3vcE4ubo6AjPnj1DsVj0JrBGzakS07DPfw3z+TKdcfmRS0H8/z9NnJY8CPOTmZkZbG1t4eXLlzFYNTjz8/OYnZ2N2wyPSqWChw8fBn74ZVTfqAjd6nka0Tn2NspxvEkYIxw1054HUe4vnU5P5LhpEuiVb6PyrVPVMiWEkFFBMSWEEA1QTAkhRAMUU0II0QDFlBBCNBA6m5/UHQ7J+KEvRGNpaQlLS0txm0FiIlRMd3Z2xmkHSSBffvklAOBHP/pRzJYkn6WlJXzxxRe4evVq3KaQEXJwcIAnT54EHgsV06jvGJPpRb6TT1/oz9LSEq5evcq8OgWEiSnHTAkhRAMUU0II0QDFlBBCNEAxJYQQDVBMCSFEAxRTQmIgyqcap2UjyDjY3NwM3ZRQx2cyg4hNTHV+//OktNvtru1ik2LbacZfLpMWfxSEb3dNSbPZxIMHD3Du3DnP/9bX1wPjmBRflfkd9Nve3u44t1KpIJvNIpVKIZvNdh33UygUOu77+vXrWFlZCfyweFien5TYxFQIgVar5f3darVi+4blq1evOv4WQsB1Xe/vOG07zfjLZdLiH5Z2u43V1VXcuXMHpmmi1Wp52zkHCarqr67rJtZX/+u//iv02Pz8vPf/zc1NZLNZbGxsQAiBjY0NLC8vh7bSG40G7t692xGWyWRw//59rK6uRt42+6TE2s1XtxMY19YCftrtNgqFQle4+oXuuGw7zYSVy6TEfxKKxSIymYy3BUg6ncatW7cAAI8ePQpspUl/DfqyfFJ48+YNHMfp2O/edV1YltVhdy6XA/BeENV/9/f3u+Jst9t48eJFYHpzc3O4dOkSisWi7lsJZoCtTEcCfNutuq4rSqWSt2Ws3EfcMAxva1nXdUW5XPbOkVvZmqbp7Z2uxq3G7w+TW9f2OrcfrVarYztduZWt3I5a/tRtqdVj6n3JcMMwvO1t1ftttVrCNE1tWxT3YtitnlutliiVSt795fP5jq12hy2XcZT7sNs/Q/NWz0FbG0sfAhC473xQfP3KIkp9U88N8s+oBG23XCqVRL1e7wiTacjtrh3H8bb89mPbtpdnQfdfrVbHttVz4sRU7n8elJmmaXZco54jRQaAV7GCMlnGFUU0o2a2TNd13S5b5b7d8m8VwzC8QnZd19vrXYhjJ1D3jJf3W6/XA+PTzbBiahiGyOfzQojj+5IPAhk2TLmMo9zjFlMpZn4hk9dIG4PEJSi+fmURpb6p1wb550kI82N5jwcHB6JUKgWKYbVa9WwOy095L+VyuevY1Itp1LCgc+r1elcLcNi4eoX7sSyrwyn818knrVpB6vV6R+tCth786cuKLeOUlWAcDCOmQS0B+UBR73fYchlHuQ+DLjGVIhJ2jRDvHyBSBP0tchWdZdHPP4fBXwf8yIekZVldfu+6rveQCLsHId7nld83+l3Ti1MjplHP0y2mEsdxOrrvElnZ1cK3bbtDXNUWgv83jC06GEZMZQVQkQ4tu5JC6BXTYa9Nopj2skkNl61vtXfjv05nWfTzz2GQw2FB2LYtSqWSaLVawrKsjta0EKKjLoXdQ79jFNMe50Q9bxRims/nhWEY4vDwMPA66ditVsvrmg6S1qSI6ajLhWJ6jHxIS6GZlLwS4v3DIKxVK1vBUjxlnZICWi6Xu4ZBkiCmU7lo3zTNsaSztrYGANje3sbdu3fx4x//OHTvcGnTv/zLv+DVq1e4c+dO4HlHR0ejMXZMGIYBAIHr+0ZdLuMq96SQyWRQLpdRqVRg23bX8VGUhS7/3Nvbw8LCQuCx5eVlAMeraC5evAgA3vKnbDaLK1euBK6rjXON7VSJqSzoGzdujDytWq2GH/zgBwCOC//y5cuh52cyGZimieXlZRQKBW/ZiySfzwMAtra2vHVxk/gGzO3btwEAr1+/9sLk/SwuLo4kzXGW+6iRohh1baRhGN4aVD86y0K3f+7v73tLnvzIh4BEiqoMF8rSKvmTqP9XsSxrKDsHYoBmrHZk1wRKk16diZVh6nnq+BBwPJCujq2o+Gd65QA8cDxbKceD5NIPvx1+ZBxyJlNe7zhORzffPx4kr/OP9/jTU3+O4/S0ZZQM082XkyPqWF6pVOoa1hi2XEZd7kmdzZc+EDbGGDRxFaUsota3Xv4pxPEka5TZ/X4TT3LiTJ4jy67XUqyw/DwVs/lBBRP0CzpXDVOXDuXz+a5ZP8dxvOMyQ+USD+kocuxJDohHtU2m5b9ezu4HLW+R46pBOI7jVQr1ejVNv2iMkmGXRsmZVlX4dJSLEKMtdyHiF1Ppf3LJj3quvw74CfKNfmURtb4JEe6fQhyvaInin70mniTVatV7IJqm2XdNa7+Gz6lYZzoscbTUTkrQxFOSGVZMR0lSy12XmArxvpUXtJRnEhjnwz4KlmWF5qVuMZ2qMdOks7u7O7JxQzI9rK6uYn9/H7VaLW5TBqJWq+H+/ftxm+HRaDTQaDSwuro6lvQmUkzV2cmgmcoksb6+7s04vn37tuODDmQwJqncT0I6nUaxWMTjx4/RaDTiNicSe3t7uHDhQtfEalwcHR3h2bNnKBaLY/u2xkSKqVwq4f9/EpEz/Pl8HhsbGzFbM9lMUrlHJeyTeTMzM9ja2sLLly9jsGpw5ufnQ5cFxkGlUsHDhw8DP/wyqs8Uhm71nGREyPKHJPLZZ5/hs88+i9uMqWCSyr0fUe4lnU7j3r17Y7Bm+uiVb6Pyo4lsmRJCSNKgmBJCiAYopoQQogGKKSGEaCB0Amp3d3ecdpAE8u7dOwD0hagcHBzEbQIZMb3KOCV8U1u7u7tYWloauVGEEDKpBKwIeN4lpoQkCflwp5uShPOcY6aEEKIBiikhhGiAYkoIIRqgmBJCiAYopoQQogGKKSGEaIBiSgghGqCYEkKIBiimhBCiAYopIYRogGJKCCEaoJgSQogGKKaEEKIBiikhhGiAYkoIIRqgmBJCiAYopoQQogGKKSGEaIBiSgghGqCYEkKIBiimhBCiAYopIYRogGJKCCEaoJgSQogGKKaEEKIBiikhhGiAYkoIIRqgmBJCiAYopoQQogGKKSGEaIBiSgghGqCYEkKIBiimhBCigbNxG0CIpNls4h/+4R86wv7jP/4DAPB3f/d3HeEXLlzAZ599NjbbCOlHSggh4jaCEAD4+uuv8eGHH+J//ud/8K1vfSv0vJ///Of4q7/6Kzx79myM1hHSk+fs5pPEcPbsWSwvL+PMmTP4+c9/HvoDgNu3b8dsLSGdUExJolheXsYvfvGLnud8+OGH+MM//MMxWURINCimJFFcvXoV3/3ud0OPf/vb38bKygo++ICuS5IFPZIkilQqhU8++SR0zPSrr77C8vLymK0ipD8UU5I4enX1f+u3fgvf+973xmwRIf2hmJLE8bu/+7v47d/+7a7wb3/727hz504MFhHSH4opSSQrKytdXf2vvvoKt27diskiQnpDMSWJ5JNPPsHXX3/t/Z1KpZDJZDA7OxujVYSEQzElieTKlSv4/ve/j1QqBQA4c+YMu/gk0VBMSWL59NNPcebMGQDAN998g5s3b8ZsESHhUExJYrl58yZ++ctfIpVK4Q/+4A9w6dKluE0iJBSKKUksH374IX7wgx9ACMEuPkk8ifnQiRwbI4SQqCwsLOD58+dxmwEAzxP1Cb4vvvgCV69ejduMqWBpaWkq8vP//u//kM/n8dd//dcjif/g4ABPnjzBzs7OSOIno+PLL7+M24QOEiWmV69e5SSDJpaWlqYmP//4j/8YH3300cjif/LkyVTk02kjIS1SD46ZksQzSiElRBcUU0II0QDFlBBCNEAxJYQQDVBMCSFEA1Mlps1mE9vb28hms3GbMjWsr69jfX09bjMSS7PZxObmZtxmTCSbm5tot9txm6GNqRLTBw8eYHl5GZVKJW5ThqLdbqNWq6FQKPCB8Cva7XZiX+hoNpt48OABzp07h1QqhVQqFfrgkcfVXxKR+R30297e7ji3Uqkgm80ilUohm812HfdTKBQ67vv69etYWVlBs9kcyb2MHZEQAIidnR0t8STotgbCsixhWZaWe9CVn3FTLpdHWp47OztDxd9qtYRhGOLg4MD7u1QqCQDCsqzAa1zXFQCE67onsnmUHBwceP7n/6l227YtAIh6vS6EEKJerwsAwrbtwHjlcX9eHxwcCMMwRKvVGtjWhYUFsbCwMPB1I2J3qlqmk87GxgY2NjbiNiMxtNttFAqFuM0IpFgsIpPJYG5uDgCQTqe9D1c/evQosJU2MzPT8W8SefPmDRzHgRDC+7muC8uyOuzO5XIAgEwm0/Hv/v5+V5ztdhsvXrwITG9ubg6XLl1CsVjUfStjZ6LFtN1uY3t72+tmHB0dBZ4nx7XkeXt7e164OsZaqVS8c96+fdsRh7y+UCig2Wx2ddPC0phk/PkTJb+azabX/QOOu3Zra2sd5RPU3fWH2bbtDdmo4XGP4zabTeRyOVy7di3wuG3bWF5e7tvtlah+rPqYml5UPz2pH87Pz+Py5csdYXt7e1hYWOi6RwCo1WoA4NkR1BgoFov4/PPPQ9NcXFxELpeb/O5+zE1jDwzRLTUMQ5im6XURZDdLvS3XdYVhGKJUKgkhhKhWq173xDAM73zZXXMcRwAQpml6cdi2LRzHEUK8787JrniUNIbBfw/DxnHSbr6aP/6/w/ILSrdQ7QKbpikAiMPDQyHEcZdXvU8ZlxoWlBdyOEQHw3Tz5dCD9AkVGZf0Eb8PBKVlGIbI5/NCiGNfUru+Uf1Utx9K1DRU5D0eHByIUqkUOHxRrVY9m8P8Wt5LuVweyK6kdfMnVkylQ8vKKcT7SusvMCmw/rRkZQwq4KAKrTqKFIKoaQxKUsQ0yJao+eU/J2hMbdi4dDKMmPofpioyXI6p+n3Uf50UPNW/5LilFEV5Xb+80u2HQrwvN9UOP/IhaVlW17in67reQyLsHoQ4rrdh461hUExDGLTyy0IMikcNV5/q/l/Q+UFhMq1SqRQ4UN4vjUGZRjHVHZcuhhHTXjb5eywAhGEYnlj6rwvyYykuhmH0THNQXx8Gy7JCJ8xs2/bqhGVZXRNJqpCG3UOUY2FQTEMYtPKfpML2i8cfdnh42OGo/ieo7gpPMZ0OMRXiuEUuhabf/YaFx5FXruuGtmplK1iK5+HhoQDgCWi5XO4aBpl2MZ3oCahBCJucisLs7CzK5TLq9TpM00QulwtcqH2SNE4LpmnGbcJYyWQyKJfLqFQq3qSNimEYABA4+TJsXunyw6CJJ8ny8jKA96sYAODixYsAgLt37wIAstksrly5EjrROI1MrJjm83kAQKPRiHTe1taW97bFoG+tpFIptNttZDIZPH36FPV63VsaoiuNaUdW8Bs3bsRsycmRohj17R3DMFAqlfDo0aOuY7dv3wYAvH792guT8S4uLg5kl24/3N/f95Y8+ZEPAYkUVRkulKVV8idR/69iWdZQdiaGONvFKhiwWypnAA3D8LoTcjAfOJ7lVGeN1Z/jOB3HZHdFncRSx7ksy/LScRyno6vfK41BUdMfZiGzZND8DEK9L9d1B8ov4HgCRR1TU/HP8KsLxmX5yeEV13W9PE/qbH6/RflBE1dyokodVy2VSl2z9FHyvZ8f+hfa96LfxJOsa/IcWXbVajX0GmmPH87ma2aYyu84jlchTdPsWBqiOrTjOJ4jm6bpOZff6XqFycqMgDHTXmkMmgdBv2HQIaZh9kTJL1lppRjm8/muh4PjON5xWZH85SfHHNWJkLjFVIqWXPIjRHBeBeF/oMj48vl8x0NIzauo+S5Ebz+0LEuYphlog59eE0+SarXaUf96Calqsx8pxIO+GZY0MU3Uhno7OzvcPkITceanHBNLiGv1ZHd3F0tLSwPbKrvO9+7dG4VZIyWbzaJcLsdthsf6+jrOnz8/cF7KYZCEbF/yfGLHTAmJk9XVVezv73tvAE0KtVoN9+/fj9sMj0ajgUajgdXV1bhNOTEUU6IV/2uQ00o6nUaxWMTjx4/7ToImhb29PVy4cMH7nkDcHB0d4dmzZygWi94E1iRDMR0xYZ8zm4TPsQ2DXCLj//80MjMzg62tLbx8+TJuUyIxPz+P2dnZuM3wqFQqePjwYaI//DIIidrqeRqZhHFDnZy2+02n0xM5bpoEpi3f2DIlhBANUEwJIUQDFFNCCNEAxZQQQjSQqAmog4ODuE2YKpif/ZF5tLu7G7MlZFDevXuH7373u3Gb4ZGoN6AIIWQQFhYWEvMGVKJapnydVB98PTcaw75OSuJn0K9qjRqOmRJCiAYopoQQogGKKSGEaIBiSgghGqCYEkKIBiimhBCiAYopIRrhRorBbG5uRt6AcFKZSjHt9d3Qzc1NVCqVqS/YOGm32yN9CWPU8Q9Ls9nEgwcPcO7cOc/f1tfXA8+d1G/aNhoNFAoFZLPZnjYXCoWO49evX8fKyspUfzB8KsVUCAHXdb2/W62Wt93s9evXUSgUpr5g4+TVq1cTHf8wtNttrK6u4s6dOzBNE61Wy9veOUhQVR91XXciXhrY3NzE+vo6PvzwQ/z4xz8OtbnRaODu3bsdYZlMBvfv38fq6urUNmSmUkwBdHy9W90SIZPJoFgsAsBUF2xctNttFAqFiY1/WIrFIjKZjLclSDqdxq1btwAAjx49wvb2dtc10kcn4Uvza2traLVa2NragmEYuHz5cuB57XYbL168CDw2NzeHS5cuefVv2phaMe3FzMwMvvjiC1Qqla5WjhzzSqVSyGaz2Nvb88K3t7eRzWYBvN9yQZ7z9u3bjjjk9YVCAc1ms6s7FJZG3LTbbWxvb3vdTmm/JKhL6g+zbRuVSqXjWLPZRKVS8fJOdgHX1tZwdHR04viB9ztchnWpR02z2UQul8O1a9cCj9u2jeXl5UBBDaJfOQziizp8TebrxsZG372aisUiPv/889Dji4uLyOVy09krjGF/6UCgYZ/3oDjDbrHVann7fUtc1/X2bRfi/b7g8O3/DmW/dMdxuuKwbdvbq7zVanl7mEdJQ/e9D5qfhmGIfD7fYadhGN4e7nK/ePj2afeHhf2t5l2r1fL2XD88PDxR/EK83+fdsqyB7lcIIXZ2dkJ9JCrlclkA6NijXiLjln7gL+egtPuVQ1Rf1OFr9XpdABDlclnk83kBQBiGIarVate51WrVsyes7kk7y+VyZBvCWFhYEAsLCyeORxO7p1ZMg46XSqWu8wF4lTQovqCK7rqu97cUiKhp6GLQ/JQVTbX94OBAAPAqo4w3Sh70O0eI44pq2/aJ4x8WHWLqf2CqyPBWq+WJoHx4qMclOstBh6/Ztt0hwOpDUAqnEO/9XD4AwuyT1/vLfFgopiEkQUzVJ77/FxafP0w6WqlU8loSKv3S0MWg+SntVpGObxhGR7y6xHTYa5Mmpr3s8fdKZH5KsfRfp7McdPhar4eg2gpWhTTsuijHBoFiGsK4xVQ6qPqUHlR8g8IODw87nNj/BB6FcIbZOkh+jlrsKKbvkUIku+1Jz6co9pTL5a4hjtMopqdyAgoAfvKTnwBA4KSBOikyKLOzsyiXy6jX6zBNE7lcLnAR90nSGAWGYQBA4MSAaZojTXvU8SeJTCaDcrmMSqUC27a7jo+iHE7iazLNoFUv0tZsNosrV66ETiCeFk6lmDabTTx58gSGYWB+ft4Lz+fzAICtrS3PeQZ9oyWVSqHdbiOTyeDp06eo1+vI5XJa0xgFt2/fBgC8fv3aC5P2jeojvLKS37hxYyTxjwspilGX2RmG4a1B9aOzHHT4mkzzzZs3XfZIW8Wv1nCrP4n6fxXLsqLfyKQQZ7tYBZq7+bILBaBj7FLOzKvjVhJ1Nln9OY7TcUzGp6ahjoFZluV1exzH6ejq90pDJ4Pmp5wgUfOlVCp1jIsJIbpm4OXkCJQxNDnM4bqud+/yHDmJIlc6qOOAJ4k/ibP5sqz9fiYJmriKUg5RfbGfr/knl8KQ5STjzefzXeXmR6blh7P5Y0CnmAY5kPzZtt0xC+nHcRzPyU3T9BzPH0+vMFnJZXpR09DJMPkpZ2RV4fNPojmO44mZrBBy+Y2sbHJc0LKsjoeMrLjy+nw+ry3+OMVUipbqV0G+F0SQKPUrh6i+KERvX7MsS5im2VcYhRAd9gSVm5+we5YPx7AHzCAkTUwTtaEe9yzSR9LyU46dJcTdPHTtASW7zvfu3dNh1ljJZrMol8tjSWt9fR3nz5/Xkk9yCCIpG+qdyjFTQnSzurqK/f191Gq1uE0ZiFqthvv3748lrUajgUajgdXV1bGkN4VipbIAABEiSURBVG4opmTk+F+FnEbS6TSKxSIeP36MRqMRtzmR2Nvbw4ULF7zvCYySo6MjPHv2DMVise8rqZMKxZSMnIsXLwb+f9qYmZnB1tYWXr58GbcpkZifn8fs7OxY0qpUKnj48OFEfNRlWM7GbQCZfpI2TjpK0un0RI6bjprTkCdsmRJCiAYopoQQogGKKSGEaIBiSgghGkjUBNSXX36ZlAW4UwHzsz/v3r0DMLrvD5DRUavVxrKsKyqJeQOKzkyCcF0X//mf/4kf/vCHcZtCEsjVq1fxN3/zN3GbAQDPEyOmhASh63VPQkYMXyclhBAdUEwJIUQDFFNCCNEAxZQQQjRAMSWEEA1QTAkhRAMUU0II0QDFlBBCNEAxJYQQDVBMCSFEAxRTQgjRAMWUEEI0QDElhBANUEwJIUQDFFNCCNEAxZQQQjRAMSWEEA1QTAkhRAMUU0II0QDFlBBCNEAxJYQQDVBMCSFEAxRTQgjRAMWUEEI0QDElhBANUEwJIUQDFFNCCNEAxZQQQjRAMSWEEA1QTAkhRAMUU0II0QDFlBBCNEAxJYQQDZyN2wBCJD/72c/w53/+5/jFL37hhf3v//4v0uk0fud3fqfj3O9973v4x3/8x3GbSEgoFFOSGD766CN89dVX+OlPf9p1rN1ud/x969atcZlFSCTYzSeJ4tNPP8XZs72f8alUCrdv3x6TRYREg2JKEsXy8jK++eab0OOpVAq/93u/h9/8zd8co1WE9IdiShLFxx9/jLm5OXzwQbBrnjlzBp9++umYrSKkPxRTkjhWVlaQSqUCj/3yl7/EzZs3x2wRIf2hmJLEsbi4GBh+5swZ/NEf/REuXrw4ZosI6Q/FlCSOX//1X8cPf/hDnDlzpuvYyspKDBYR0h+KKUkkn3zyCYQQHWEffPAB/vIv/zImiwjpDcWUJJK/+Iu/wLe+9S3v77Nnz+LP/uzPkE6nY7SKkHAopiSR/Nqv/RoMw/AE9ZtvvsEnn3wSs1WEhEMxJYnl//2//4evv/4aAPCd73wHN27ciNkiQsKhmJLE8qd/+qc4d+4cAGBhYQHf+c53YraIkHAS+27+7u5u3CaQBPD7v//7+Nd//Vd8/PHH9AmCjz/+GFevXo3bjEBSwj9lmhDCFm0TQk4vCwsLeP78edxmBPE80d38nZ0dCCH40/Cb1Pz85ptv8Pjx47Glt7OzAwCx3zd/3b+FhYU45agviRZTQj744AP87d/+bdxmENIXiilJPP0+yUdIEqCYEkKIBiimhBCiAYopIYRogGJKCCEamGoxbTab2N7eRjabjduUqWF9fR3r6+txm5FYms0mNjc34zYjcWxubnZtijhtTLWYPnjwAMvLy6hUKnGbMhRv377F2toaUqkU1tbWsLe3F7dJsdNutxP7Qkez2cSDBw9w7tw5pFIppFKp0AePPK7+JoFGo4FCoYBsNtvT5kKh0HH8+vXrWFlZQbPZHIeZ8SASCgCxs7OjJZ4E32YorVZLlMtl7/+lUkkA8MIGRVd+xk25XB5pee7s7AwVf6vVEoZhiIODA+9vWWaWZQVe47quACBc1z2RzePCtm1hGIYol8vCcZzQ8+r1emC9Ozg4EIZhiFarNVT6CwsLYmFhYahrx8DuVLdMJ5lXr17BMAwAQDqd9vaJP81DFu12G4VCIW4zAikWi8hkMpibmwPQWWaPHj3C9vZ21zUzMzMd/yaZtbU1tFotbG1twTAMXL58OfC8druNFy9eBB6bm5vDpUuXUCwWR2lqbEyVmLbbbWxvbyOVSiGbzeLo6CjwPDmuJc+T3Wf/GGulUvHOefv2bUcc8vpCoYBms9nV5QlLIypSSP2YpjlQPDrx50+U/Go2m6hUKt45svu3trbWUT5B3V1/mG3b3pCNGh73OG6z2UQul8O1a9cCj9u2jeXl5UBBDUL1Y9XH1PSi+ulJ/RCAl7cbGxt9P85dLBbx+eefhx5fXFxELpebzu5+3G3jMDBEt9QwDGGapteNkN0s9TZd1xWGYYhSqSSEEKJarQoAol6vC8MwvPNld81xHAFAmKbpxWHbttfNabVawrKsyGkMS6vVir2br+aP/++w/JLH1XNarZYwTVMAEIeHh0KI4y6vmo8yLjXM/7cQQliWFdqVHpRhuvly6CGo6yvjkj7i94GgtAzDEPl8Xghx7Etq9ziqn+rwQ9llL5fLIp/PCwDCMAxRrVa7zq1Wq549QeWk2jmMHye9mz81YiodWlZOIY4FSC1UKbD+tGRlDHKCoAqtjnNJIYiaxjBUq9UTjTfpEFMZTz9xi3KOrKS2bZ84Lp0MI6b+h6mKDJdjqn4f9V8nBU/1r4ODAwHAE0V5Xb+80uGHtm13CLD6IJTCKcT7OiAfAGH2yev95R4ViumQDFr5ZQEHxaOGq091/y/o/KAwmVapVAoUt35pDIM6uTEMSRNT3XHpYhgx7WWTv8ciW3ZSLP3XBfmxFCDDMHqmOaivD3tv8kGotoJVIQ27LsqxXlBMh2TQyn+SCtsvHn/Y4eFhh6P6n7K6K3ypVOpy1kGhmEZjlGIqxLEQyV5Gv/sNCx9XXkWxJ2h2/zSK6VRNQA1C2ORUFGZnZ1Eul1Gv12GaJnK5XOBC7ZOkIWk0GvjpT3+Kzz777MRxJZE4J9TiIJPJoFwuo1KpwLbtruNy4jFogmbYvDqJH8o0gxbcS1uz2SyuXLkSOol4WpgaMc3n8wDei0+U87a2tjwHGfStlVQqhXa7jUwmg6dPn6JeryOXy2lNQ17z8uVLbGxseGGNRgNra2sDxZNEZAWfhk3ypChGfcPHMAyUSiU8evSo69jt27cBAK9fv/bCZLyLi4sD2aXDD2Wab9686bJH2ioCPuQsUf+vYllW9BuZFOJsF/cCA3ZL5SyhYRhel0MO5kMZ31FnjdWf4zgdx+RYqDqJpY5zWZblpeM4TkdXv1caUZEzsUHxDDMTOmh+htmk5sUg+QUcT6DIFRDqGKAQomuGX068qOUn88R1XS/Pkzqb329RftDElZyoUsdVS6VS1yx9lHzv54f+yaUwZFnJePP5fFfZ+ZFp+eFsfgwMU/kdx/EqpGmaHUtDVId2HMdzZNM0PefyO12vMFmZETBm2iuNqMj7CPqps8FR0SGmYfZEyS9ZaaUY5vP5rsk7x3G847Ky+ctPjjlaluWFxS2mUrTUCcKw/PETJEpyZlx9CKl5FTXfhejth5ZlCdM0+wqjEKLDnqCy8xN2z/IBOcxbX0kX00RvqLezs4ObN2/GbcpUEGd+ynGzhLpaB7u7u1haWhrYVtl1vnfv3ijMGinZbBblcnksaa2vr+P8+fND5ZMccuCGeoRMMaurq9jf30etVovblIGo1Wq4f//+WNJqNBpoNBpYXV0dS3rjhmJKRor/NchpJZ1Oo1gs4vHjx30nQZPC3t4eLly44H1PYJQcHR3h2bNnKBaLfV9JnVQopmMm6NNrk/o5tihcvHgx8P/TyMzMDLa2tvDy5cu4TYnE/Pw8Zmdnx5JWpVLBw4cPJ+KjLsPCbR/HzCSMG+rktN1vOp2eyHHTUXMa8oQtU0II0QDFlBBCNEAxJYQQDVBMCSFEA4megPryyy+TukB3ImF+9ufdu3cABn8PnoyeWq02lmVcw8KWKSGEaICvk54SmJ/RGPZ1UjJ6+DopIYScAiimhBCiAYopIYRogGJKCCEaoJgSQogGKKaEaGSYvb5OA5ubm5H3yJpUToWY9vrU3ebmJiqVytQXdJy02+2RflZw1PFHpdls4sGDBzh37pznX+vr64HnTtJnF9vtNmq1GgqFArLZbOh5lUoF2WwW2WwWlUql49j169exsrIy1d+0PRViKoSA67re361Wy9tF8fr16ygUClNf0HHy6tWriY4/Cu12G6urq7hz5w5M00Sr1fJ2IA0SVNUnXddN9LpW27bxT//0T7h7926XSEq2t7dRKBSwtbWFra0t/PM//zMKhYJ3PJPJ4P79+1hdXZ3ehkscO09FARo2gAuKM+iW5cZ7hmH03ShsUhlFfkZB7rY5KlfTHf8wG+oJ8X6nz6BN/aBsihdEgqtgF2H1R+44qm4oKDc+9O98appm4AaUUUj6hnqnomXaj5mZGXzxxReoVCpdrRw5BpZKpZDNZrG3t+eFb29ve92eSqXinfP27duOOOT1hUIBzWazq0sXlkbctNttbG9ve91Qab8kqIvqD7Nt22vNyPBms+l1CQGgUCgglUphbW0NR0dHJ44feL9xW1gXWzfNZhO5XA7Xrl0LPG7bNpaXl7G9vR0pvn75PojvjcO3/u3f/g0A8NFHH3lhv/EbvwEA+Pd///eOcxcXF5HL5aazFxi3nIeBMbZMhTjed9y/P7ncalgIIarVateWxVCeyPIJrcZh27a3va7cL161oVcauu990Pw0DEPk8/kOO9XWu7ovu0TmgRoW9read61Wy9veWm5lPWz8Qgy//fMwLdNyudyxH72KjEuWu79cg9Lql+9RfU+3b4XVH1luQef7t5GWdsqtvAch6S1TimmP46VSqet8/GrP9rD4giq6uke4FIioaehi0PyUFU+1Xe55rnZZo+ZBv3OEOO4aqt3AYeMflmHE1P+AVJHh6nCEfFioxyU68123b4Xl8yDhstEyTFefYjokSRBTtQXg/4XF5w+TT+1SqRQ4HtsvDV0Mmp9BrQ1ZEdTWhk4xHfbauMW0V/pquHyQGobhiaX/Op35rtu3dIhpr/B+UEyHZNxiKh1WfWoPKr5BYYeHhx1O7X8ij0I4w2wdJD9HLXanUUyFOG59y277pORLr/jCJgCBzmGHk9qVdDHlBNSv+MlPfgIAgZMI6qTIoMzOzqJcLqNer8M0TeRyucBF3SdJYxQYhgEgeK970zRHmvao44+TTCaDcrmMSqUC27a7jo8i30ftW0E2y4mw73//+yNNO0lQTPHeCZ48eQLDMDA/P++F5/N5AMDW1pa3Nm7QN1xSqRTa7TYymQyePn2Ker2OXC6nNY1RcPv2bQDA69evvTBp36i+Qi8r/Y0bN0YS/6iQohh1/aRhGN4aVD86831cvvUnf/InADpt/tnPftZxzI9lWVptSARxt43DgOZuvuxSAegYu5Qz8+o4lkSdTVZ/juN0HJPxqWmoY2KWZXkzvY7jdHT1e6Whk0HzU06YqPlSKpW6um3+GXg5WQKliye7ga7revcuz5GTKnKlg3/2d9j4kzCbL8vW71eSoImrKPke1ff6+ZZt2wKINrsfVn8k+XxemKYpWq2WtzJDrkhQ4Wx+DOgU0yCHkj/btjsWG/txHMdzetM0PUf0x9MrTFZymV7UNHQyTH66rivy+XyH8PkrkuM4npjJCiKX48hKLccJLcvqeMjIiiyvz+fz2uIfp5hK0VL9KMjXgvA/PGR8vfI9qu8J0du3LMsSpmkG2qASVnf8yIeKYRiiWq0GxiUfhmEPmF4kXUy5bckpIWn5KRfXJ839ht22RHad7927NwqzRko2m0W5XB5LWuvr6zh//vxQ+cRtSwg5BayurmJ/fx+1Wi1uUwaiVqvh/v37Y0mr0Wig0WhgdXV1LOmNG4opGTv+VyOngXQ6jWKxiMePH6PRaMRtTiT29vZw4cKFsWyffHR0hGfPnqFYLCKdTo88vTigmJKxc/HixcD/TzozMzPY2trCy5cv4zYlEvPz85idnR1LWpVKBQ8fPsTMzMxY0ouDs3EbQE4fSRsn1Uk6nZ7IcdNRcxryhC1TQgjRAMWUEEI0QDElhBANUEwJIUQDFFNCCNFAot+AIoQQlYWFhcS+AZXYpVE7Oztxm0AISRgff/xx3CaEktiWKSGETBB8N58QQnRAMSWEEA1QTAkhRANnASRyaowQQiaI2v8HIwXj0kXsbEgAAAAASUVORK5CYII=\n",
      "text/plain": [
       "<IPython.core.display.Image object>"
      ]
     },
     "execution_count": 19,
     "metadata": {},
     "output_type": "execute_result"
    }
   ],
   "source": [
    "from tensorflow.keras.utils import plot_model\n",
    "network.summary()\n",
    "\n",
    "plot_model(network, \n",
    "    show_shapes= True,\n",
    ")"
   ]
  },
  {
   "cell_type": "code",
   "execution_count": 20,
   "id": "bdb79a43",
   "metadata": {},
   "outputs": [
    {
     "name": "stdout",
     "output_type": "stream",
     "text": [
      "313/313 [==============================] - 0s 747us/step - loss: 0.0978 - accuracy: 0.9724\n",
      "test_acc: 0.9724000096321106\n"
     ]
    }
   ],
   "source": [
    "test_loss, test_acc = network.evaluate(tei,tel)\n",
    "print('test_acc:',test_acc)"
   ]
  },
  {
   "cell_type": "code",
   "execution_count": 2,
   "id": "a6a52052",
   "metadata": {},
   "outputs": [],
   "source": [
    "import os\n",
    "from keras.models import Sequential, load_model\n",
    "from keras.layers import Dense, Dropout, Flatten, Conv2D, MaxPool2D\n",
    "from keras.utils import np_utils, plot_model\n",
    "from keras.datasets import mnist\n",
    "import matplotlib.pyplot as plt\n",
    "import pandas as pd"
   ]
  },
  {
   "cell_type": "code",
   "execution_count": 7,
   "id": "9fcef8e5",
   "metadata": {},
   "outputs": [],
   "source": [
    "# Model / data parameters\n",
    "num_classes = 10\n",
    "input_shape = (28, 28, 1)\n",
    "\n",
    "# 下載資料集\n",
    "(x_train, y_train), (x_test, y_test) = keras.datasets.mnist.load_data()\n",
    "\n",
    "# 色彩是0~255\n",
    "x_train = x_train.astype(\"float32\") / 255\n",
    "x_test = x_test.astype(\"float32\") / 255\n",
    "# 確保符合input_shape\n",
    "x_train = np.expand_dims(x_train, -1)\n",
    "x_test = np.expand_dims(x_test, -1)\n",
    "\n",
    "# 把vector換成binary矩陣\n",
    "y_train = keras.utils.to_categorical(y_train, num_classes)\n",
    "y_test = keras.utils.to_categorical(y_test, num_classes)"
   ]
  },
  {
   "cell_type": "code",
   "execution_count": 4,
   "id": "a6d1d22a",
   "metadata": {},
   "outputs": [
    {
     "name": "stdout",
     "output_type": "stream",
     "text": [
      "Model: \"sequential\"\n",
      "_________________________________________________________________\n",
      " Layer (type)                Output Shape              Param #   \n",
      "=================================================================\n",
      " conv2d (Conv2D)             (None, 26, 26, 32)        320       \n",
      "                                                                 \n",
      " max_pooling2d (MaxPooling2D  (None, 13, 13, 32)       0         \n",
      " )                                                               \n",
      "                                                                 \n",
      " conv2d_1 (Conv2D)           (None, 11, 11, 64)        18496     \n",
      "                                                                 \n",
      " max_pooling2d_1 (MaxPooling  (None, 5, 5, 64)         0         \n",
      " 2D)                                                             \n",
      "                                                                 \n",
      " flatten (Flatten)           (None, 1600)              0         \n",
      "                                                                 \n",
      " dropout (Dropout)           (None, 1600)              0         \n",
      "                                                                 \n",
      " dense (Dense)               (None, 10)                16010     \n",
      "                                                                 \n",
      "=================================================================\n",
      "Total params: 34,826\n",
      "Trainable params: 34,826\n",
      "Non-trainable params: 0\n",
      "_________________________________________________________________\n"
     ]
    }
   ],
   "source": [
    "from tensorflow.keras import models\n",
    "from tensorflow.keras import layers\n",
    "\n",
    "#總共有2層的CNN，CNN做完，都需要做pooling\n",
    "#最後做softmax，選擇辨識最高的當作答案\n",
    "model = models.Sequential(\n",
    "    [\n",
    "        keras.Input(shape=input_shape),\n",
    "        layers.Conv2D(32, kernel_size=(3, 3), activation=\"relu\"),\n",
    "        layers.MaxPooling2D(pool_size=(2, 2)),\n",
    "        layers.Conv2D(64, kernel_size=(3, 3), activation=\"relu\"),\n",
    "        layers.MaxPooling2D(pool_size=(2, 2)),\n",
    "        layers.Flatten(),\n",
    "        layers.Dropout(0.5),\n",
    "        layers.Dense(num_classes, activation=\"softmax\"),\n",
    "    ]\n",
    ")\n",
    "model.summary()"
   ]
  },
  {
   "cell_type": "code",
   "execution_count": 8,
   "id": "0bb9d57f",
   "metadata": {},
   "outputs": [
    {
     "name": "stdout",
     "output_type": "stream",
     "text": [
      "Epoch 1/16\n",
      "422/422 [==============================] - 10s 24ms/step - loss: 0.0305 - accuracy: 0.9898 - val_loss: 0.0302 - val_accuracy: 0.9910\n",
      "Epoch 2/16\n",
      "422/422 [==============================] - 11s 25ms/step - loss: 0.0295 - accuracy: 0.9901 - val_loss: 0.0266 - val_accuracy: 0.9925\n",
      "Epoch 3/16\n",
      "422/422 [==============================] - 11s 26ms/step - loss: 0.0296 - accuracy: 0.9901 - val_loss: 0.0286 - val_accuracy: 0.9928\n",
      "Epoch 4/16\n",
      "422/422 [==============================] - 11s 26ms/step - loss: 0.0285 - accuracy: 0.9906 - val_loss: 0.0303 - val_accuracy: 0.9920\n",
      "Epoch 5/16\n",
      "422/422 [==============================] - 11s 27ms/step - loss: 0.0262 - accuracy: 0.9913 - val_loss: 0.0304 - val_accuracy: 0.9918\n",
      "Epoch 6/16\n",
      "422/422 [==============================] - 11s 26ms/step - loss: 0.0262 - accuracy: 0.9917 - val_loss: 0.0279 - val_accuracy: 0.9918\n",
      "Epoch 7/16\n",
      "422/422 [==============================] - 12s 28ms/step - loss: 0.0258 - accuracy: 0.9914 - val_loss: 0.0281 - val_accuracy: 0.9930\n",
      "Epoch 8/16\n",
      "422/422 [==============================] - 12s 28ms/step - loss: 0.0247 - accuracy: 0.9917 - val_loss: 0.0280 - val_accuracy: 0.9922\n",
      "Epoch 9/16\n",
      "422/422 [==============================] - 12s 29ms/step - loss: 0.0246 - accuracy: 0.9919 - val_loss: 0.0284 - val_accuracy: 0.9920\n",
      "Epoch 10/16\n",
      "422/422 [==============================] - 11s 26ms/step - loss: 0.0241 - accuracy: 0.9916 - val_loss: 0.0278 - val_accuracy: 0.9927\n",
      "Epoch 11/16\n",
      "422/422 [==============================] - 11s 25ms/step - loss: 0.0225 - accuracy: 0.9918 - val_loss: 0.0279 - val_accuracy: 0.9925\n",
      "Epoch 12/16\n",
      "422/422 [==============================] - 11s 25ms/step - loss: 0.0223 - accuracy: 0.9928 - val_loss: 0.0272 - val_accuracy: 0.9920\n",
      "Epoch 13/16\n",
      "422/422 [==============================] - 11s 25ms/step - loss: 0.0224 - accuracy: 0.9926 - val_loss: 0.0286 - val_accuracy: 0.9922\n",
      "Epoch 14/16\n",
      "422/422 [==============================] - 11s 25ms/step - loss: 0.0218 - accuracy: 0.9928 - val_loss: 0.0291 - val_accuracy: 0.9922\n",
      "Epoch 15/16\n",
      "422/422 [==============================] - 11s 25ms/step - loss: 0.0216 - accuracy: 0.9926 - val_loss: 0.0308 - val_accuracy: 0.9922\n",
      "Epoch 16/16\n",
      "422/422 [==============================] - 11s 25ms/step - loss: 0.0199 - accuracy: 0.9934 - val_loss: 0.0266 - val_accuracy: 0.9927\n"
     ]
    },
    {
     "data": {
      "text/plain": [
       "<keras.callbacks.History at 0x1d5176d1b20>"
      ]
     },
     "execution_count": 8,
     "metadata": {},
     "output_type": "execute_result"
    }
   ],
   "source": [
    "batch_size = 128\n",
    "epochs = 16\n",
    "\n",
    "model.compile(loss=\"categorical_crossentropy\", optimizer=\"adam\", metrics=[\"accuracy\"])\n",
    "\n",
    "model.fit(x_train, y_train, batch_size=batch_size, epochs=epochs, validation_split=0.1)"
   ]
  },
  {
   "cell_type": "code",
   "execution_count": 9,
   "id": "d4376e32",
   "metadata": {},
   "outputs": [
    {
     "name": "stdout",
     "output_type": "stream",
     "text": [
      "Test loss: 0.023280981928110123\n",
      "Test accuracy: 0.9921000003814697\n"
     ]
    }
   ],
   "source": [
    "score = model.evaluate(x_test, y_test, verbose=0)\n",
    "print(\"Test loss:\", score[0])\n",
    "print(\"Test accuracy:\", score[1])"
   ]
  },
  {
   "cell_type": "code",
   "execution_count": null,
   "id": "c4176855",
   "metadata": {},
   "outputs": [],
   "source": []
  }
 ],
 "metadata": {
  "kernelspec": {
   "display_name": "Python 3 (ipykernel)",
   "language": "python",
   "name": "python3"
  },
  "language_info": {
   "codemirror_mode": {
    "name": "ipython",
    "version": 3
   },
   "file_extension": ".py",
   "mimetype": "text/x-python",
   "name": "python",
   "nbconvert_exporter": "python",
   "pygments_lexer": "ipython3",
   "version": "3.9.7"
  }
 },
 "nbformat": 4,
 "nbformat_minor": 5
}
